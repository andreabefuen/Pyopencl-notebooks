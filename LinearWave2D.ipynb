{
 "cells": [
  {
   "cell_type": "code",
   "execution_count": 1,
   "metadata": {
    "collapsed": false
   },
   "outputs": [
    {
     "name": "stdout",
     "output_type": "stream",
     "text": [
      "Populating the interactive namespace from numpy and matplotlib\n"
     ]
    }
   ],
   "source": [
    "#Lets have matplotlib \"inline\"\n",
    "%pylab inline\n",
    "\n",
    "#Lets have opencl ipython integration enabled\n",
    "%load_ext pyopencl.ipython_ext\n",
    "\n",
    "#Import packages we need\n",
    "import numpy as np\n",
    "import pyopencl as cl\n",
    "\n",
    "#Make sure we get compiler output from OpenCL\n",
    "import os\n",
    "os.environ[\"PYOPENCL_COMPILER_OUTPUT\"] = \"1\"\n"
   ]
  },
  {
   "cell_type": "code",
   "execution_count": 2,
   "metadata": {
    "collapsed": true
   },
   "outputs": [],
   "source": [
    "#Create OpenCL context\n",
    "cl_ctx = cl.create_some_context()\n",
    "\n",
    "#Create an OpenCL command queue\n",
    "cl_queue = cl.CommandQueue(cl_ctx)\n"
   ]
  },
  {
   "cell_type": "code",
   "execution_count": null,
   "metadata": {
    "collapsed": true
   },
   "outputs": [],
   "source": [
    "#Kernel WAVE\n",
    "%%cl_kernel \n",
    "__kernel void linear_wave_2D(__global float *u1, __global const float *u0, float kappa, float dt, float dx, float dy) {\n",
    "    \n",
    "    //Inicializacion variables\n",
    "    int i = get_global_id(0);\n",
    "    int j = get_global_id(1);\n",
    "    int nx = get_global_size(0);\n",
    "    int ny = get_global_size(1);\n",
    "    \n",
    "    //Indices vecinos\n",
    "    re\n",
    "    \n",
    "    if(i>0 && i<nx-1 && j>0 && j<ny-1){\n",
    "        u1[center] = u0[center] + kappa*dt/(dx*dx) * (u0[west] -2*u0[center]+u0[east]) + kappa *dt/(dy*dy) * (u0[south] - 2*u0[center] + u0[north]);;\n",
    "        \n",
    "    }\n",
    "    else { \n",
    "        u1[center] = u0[center];\n",
    "    }\n",
    "}\n"
   ]
  },
  {
   "cell_type": "code",
   "execution_count": null,
   "metadata": {
    "collapsed": true
   },
   "outputs": [],
   "source": [
    "for i in range(0, nt):\n",
    "        #Execute program on device\n",
    "        linear_wave_2D(cl_queue, (nx,ny), None, \n",
    "                       u2_g, u1_g, u0_g, \n",
    "                       numpy.float32(c), numpy.float32(dt), numpy.float32(dx), numpy.float32(dy))\n",
    "\n",
    "        #Impose boundary conditions\n",
    "        linear_wave_2D_bc(cl_queue, (nx, ny), None, u2_g)\n",
    "        \n",
    "        #Swap variables\n",
    "        u0_g, u1_g, u2_g = u1_g, u2_g, u0_g\n"
   ]
  }
 ],
 "metadata": {
  "kernelspec": {
   "display_name": "Python 2",
   "language": "python",
   "name": "python2"
  },
  "language_info": {
   "codemirror_mode": {
    "name": "ipython",
    "version": 2
   },
   "file_extension": ".py",
   "mimetype": "text/x-python",
   "name": "python",
   "nbconvert_exporter": "python",
   "pygments_lexer": "ipython2",
   "version": "2.7.6"
  }
 },
 "nbformat": 4,
 "nbformat_minor": 0
}
