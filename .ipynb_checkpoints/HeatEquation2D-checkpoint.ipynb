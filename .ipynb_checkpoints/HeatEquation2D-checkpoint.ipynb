{
 "cells": [
  {
   "cell_type": "code",
   "execution_count": 1,
   "metadata": {
    "collapsed": false
   },
   "outputs": [
    {
     "name": "stdout",
     "output_type": "stream",
     "text": [
      "Populating the interactive namespace from numpy and matplotlib\n"
     ]
    }
   ],
   "source": [
    "#Lets have matplotlib \"inline\"\n",
    "%pylab inline\n",
    "\n",
    "#Lets have opencl ipython integration enabled\n",
    "%load_ext pyopencl.ipython_ext\n",
    "\n",
    "#Import packages we need\n",
    "import numpy as np\n",
    "import pyopencl as cl\n",
    "\n",
    "#Make sure we get compiler output from OpenCL\n",
    "import os\n",
    "os.environ[\"PYOPENCL_COMPILER_OUTPUT\"] = \"1\""
   ]
  },
  {
   "cell_type": "code",
   "execution_count": 2,
   "metadata": {
    "collapsed": true
   },
   "outputs": [],
   "source": [
    "#Create OpenCL context\n",
    "cl_ctx = cl.create_some_context()\n",
    "\n",
    "#Create an OpenCL command queue\n",
    "cl_queue = cl.CommandQueue(cl_ctx)"
   ]
  },
  {
   "cell_type": "code",
   "execution_count": 3,
   "metadata": {
    "collapsed": false
   },
   "outputs": [
    {
     "name": "stderr",
     "output_type": "stream",
     "text": [
      "/usr/local/lib/python2.7/dist-packages/pyopencl-2015.1-py2.7-linux-x86_64.egg/pyopencl/__init__.py:59: CompilerWarning: Built kernel retrieved from cache. Original from-source build had warnings:\n",
      "Build on <pyopencl.Device 'Intel(R) Core(TM) i7-6700K CPU @ 4.00GHz' on 'Intel(R) OpenCL' at 0x2dde8a8> succeeded, but said:\n",
      "\n",
      "Compilation started\n",
      "Compilation done\n",
      "Linking started\n",
      "Linking done\n",
      "Device build started\n",
      "Device build done\n",
      "Kernel <heat_eq_2D> was successfully vectorized (4)\n",
      "Done.\n",
      "  warn(text, CompilerWarning)\n",
      "/usr/local/lib/python2.7/dist-packages/pyopencl-2015.1-py2.7-linux-x86_64.egg/pyopencl/__init__.py:59: CompilerWarning: From-binary build succeeded, but resulted in non-empty logs:\n",
      "Build on <pyopencl.Device 'Intel(R) Core(TM) i7-6700K CPU @ 4.00GHz' on 'Intel(R) OpenCL' at 0x2dde8a8> succeeded, but said:\n",
      "\n",
      "Device build started\n",
      "Device build done\n",
      "Reload Program Binary Object.\n",
      "  warn(text, CompilerWarning)\n"
     ]
    }
   ],
   "source": [
    "%%cl_kernel \n",
    "__kernel void heat_eq_2D(__global float *u1, __global const float *u0, float kappa, float dt, float dx, float dy) {\n",
    "    \n",
    "    //Inicializacion variables\n",
    "    int i = get_global_id(0);\n",
    "    int j = get_global_id(1);\n",
    "    int nx = get_global_size(0);\n",
    "    int ny = get_global_size(1);\n",
    "    \n",
    "    //Indices vecinos\n",
    "    int center = j*nx+i;\n",
    "    int north = (j+1)*nx+i;\n",
    "    int south = j*nx+(i+1);\n",
    "    int east = j*nx+(i-1);\n",
    "    /*\n",
    "    if(i>0 && i<nx-1 && j>0 && j<ny-1){\n",
    "        u1[center] = u0[center] + kappa*dt/(dx*dx) * (u0[west] -2*u0[center]+u0[east]) + kappa *dt/(dy*dy) * (u0[south] - 2*u0[center] + u0[north]);;\n",
    "        \n",
    "    }\n",
    "    else { \n",
    "        u1[center] = u0[center];\n",
    "    }*/\n",
    "}\n"
   ]
  },
  {
   "cell_type": "code",
   "execution_count": 29,
   "metadata": {
    "collapsed": true
   },
   "outputs": [],
   "source": []
  },
  {
   "cell_type": "code",
   "execution_count": 14,
   "metadata": {
    "collapsed": true
   },
   "outputs": [],
   "source": []
  },
  {
   "cell_type": "code",
   "execution_count": null,
   "metadata": {
    "collapsed": false
   },
   "outputs": [],
   "source": [
    "#Find number of cells\n",
    "nx = 100\n",
    "ny = 100\n",
    "#Create test input data\n",
    "\n",
    "u0 = np.random.rand(ny,nx).astype(np.float32)\n",
    "kappa = 1.0\n",
    "dx = 1.0\n",
    "dy = 1.0\n",
    "dt = 0.4 * min(dx*dx/(2.0*kappa), dy*dy/(2.0*kappa))\n",
    "assert(np.issubdtype(u0.dtype, np.float32))\n",
    "        \n",
    "\n",
    "        \n",
    "mf = cl.mem_flags \n",
    "        \n",
    "#Upload data to the device\n",
    "u0_g = cl.Buffer(cl_ctx, mf.READ_WRITE | mf.COPY_HOST_PTR, hostbuf=u0)\n",
    "        \n",
    "#Allocate output buffers\n",
    "u1_g = cl.Buffer(cl_ctx, mf.READ_WRITE, u0.nbytes)\n",
    "\n",
    "#Plot initial conditions\n",
    "figure()\n",
    "plot(u0, label=\"u0\")\n",
    "\n",
    "\n",
    "nt = 500\n",
    "for i in range(1,nt):\n",
    "    #Simulate 10 timesteps\n",
    "    heat_eq_2D(cl_queue, (nx,ny), None,u1_g, u0_g, numpy.float32(kappa), numpy.float32(dt), numpy.float32(dx), numpy.float32(dy))\n",
    "    u0_g, u1_g = u1_g, u0_g\n",
    "    \n",
    "    if(i%50==0):\n",
    "        #Download data\n",
    "        figure()\n",
    "        u0 = np.empty((nx, ny), dtype=np.float32)\n",
    "        cl.enqueue_copy(cl_queue, u0, u0_g)\n",
    "\n",
    "        #Plot\n",
    "        plot(u0, label=\"u\"+str(10*i))\n",
    "    \n",
    "legend()"
   ]
  },
  {
   "cell_type": "code",
   "execution_count": null,
   "metadata": {
    "collapsed": true
   },
   "outputs": [],
   "source": []
  },
  {
   "cell_type": "code",
   "execution_count": null,
   "metadata": {
    "collapsed": true
   },
   "outputs": [],
   "source": []
  }
 ],
 "metadata": {
  "kernelspec": {
   "display_name": "Python 2",
   "language": "python",
   "name": "python2"
  },
  "language_info": {
   "codemirror_mode": {
    "name": "ipython",
    "version": 2
   },
   "file_extension": ".py",
   "mimetype": "text/x-python",
   "name": "python",
   "nbconvert_exporter": "python",
   "pygments_lexer": "ipython2",
   "version": "2.7.6"
  }
 },
 "nbformat": 4,
 "nbformat_minor": 0
}
