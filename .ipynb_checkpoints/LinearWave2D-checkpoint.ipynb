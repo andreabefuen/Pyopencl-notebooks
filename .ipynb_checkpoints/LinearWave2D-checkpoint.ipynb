{
 "cells": [
  {
   "cell_type": "code",
   "execution_count": 5,
   "metadata": {
    "collapsed": false
   },
   "outputs": [
    {
     "name": "stdout",
     "output_type": "stream",
     "text": [
      "Populating the interactive namespace from numpy and matplotlib\n",
      "The pyopencl.ipython_ext extension is already loaded. To reload it, use:\n",
      "  %reload_ext pyopencl.ipython_ext\n"
     ]
    }
   ],
   "source": [
    "#Lets have matplotlib \"inline\"\n",
    "%pylab inline\n",
    "\n",
    "#Lets have opencl ipython integration enabled\n",
    "%load_ext pyopencl.ipython_ext\n",
    "\n",
    "#Import packages we need\n",
    "import numpy as np\n",
    "import pyopencl as cl\n",
    "\n",
    "#Make sure we get compiler output from OpenCL\n",
    "import os\n",
    "os.environ[\"PYOPENCL_COMPILER_OUTPUT\"] = \"1\"\n"
   ]
  },
  {
   "cell_type": "code",
   "execution_count": 6,
   "metadata": {
    "collapsed": true
   },
   "outputs": [],
   "source": [
    "#Create OpenCL context\n",
    "cl_ctx = cl.create_some_context()\n",
    "\n",
    "#Create an OpenCL command queue\n",
    "cl_queue = cl.CommandQueue(cl_ctx)\n"
   ]
  },
  {
   "cell_type": "code",
   "execution_count": 11,
   "metadata": {
    "collapsed": false
   },
   "outputs": [
    {
     "name": "stderr",
     "output_type": "stream",
     "text": [
      "/usr/local/lib/python2.7/dist-packages/pyopencl-2015.1-py2.7-linux-x86_64.egg/pyopencl/__init__.py:59: CompilerWarning: From-source build succeeded, but resulted in non-empty logs:\n",
      "Build on <pyopencl.Device 'Intel(R) Core(TM) i7-6700K CPU @ 4.00GHz' on 'Intel(R) OpenCL' at 0x2cf9058> succeeded, but said:\n",
      "\n",
      "Compilation started\n",
      "Compilation done\n",
      "Linking started\n",
      "Linking done\n",
      "Device build started\n",
      "Device build done\n",
      "Kernel <linear_wave_2D> was successfully vectorized (4)\n",
      "Done.\n",
      "  warn(text, CompilerWarning)\n"
     ]
    }
   ],
   "source": [
    "\n",
    "%%cl_kernel \n",
    "__kernel void linear_wave_2D(__global float *u2, __global const float *u1, __global const float *u0, float c, float dt, float dx, float dy) {\n",
    "    \n",
    "    //Inicializacion variables\n",
    "    int i = get_global_id(0);\n",
    "    int j = get_global_id(1);\n",
    "    int nx = get_global_size(0);\n",
    "    int ny = get_global_size(1);\n",
    "    \n",
    "    //Indices vecinos\n",
    "    int center = j*nx+i;\n",
    "    int north = (j-1)*nx+i;\n",
    "    int south = (j+1)*nx+i;\n",
    "    int east = j*nx+(i+1);\n",
    "    int west = j*nx +(i-1);\n",
    "    \n",
    "    if (i == 0) {\n",
    "        u2[center] = u2[east];\n",
    "    }\n",
    "    else if (i == nx-1) {\n",
    "        u2[center] = u2[west];\n",
    "    }\n",
    "    else if (j == 0) {\n",
    "        u2[center] = u2[north];\n",
    "    }\n",
    "    else if (j == ny-1) {\n",
    "        u2[center] = u2[south];\n",
    "    }\n",
    "    else{\n",
    "        u2[center] = 2*u1[center] - u0[center] + c * (dt*dt)/(dx*dx) * (u1[west] - 2 * u1[center] + u1[east]) + c *(dt*dt)/(dx*dx) * (u1[north] - 2 * u1[center] + u1[south]);\n",
    "\n",
    "    }\n",
    "\n",
    "}\n"
   ]
  },
  {
   "cell_type": "code",
   "execution_count": null,
   "metadata": {
    "collapsed": true
   },
   "outputs": [],
   "source": [
    "#Find number of cells\n",
    "nx = 100\n",
    "ny = 100\n",
    "#Create test input data\n",
    "\n",
    "u0 = np.random.rand(ny,nx).astype(np.float32)\n",
    "u1 = np.random.rand(ny,nx).astype(np.float32)\n",
    "c = 1.0\n",
    "dx = 1.0\n",
    "dy = 1.0\n",
    "dt = 0.4 * min(dx*dx/(2.0*c), dy*dy/(2.0*c))\n",
    "\n",
    "        \n",
    "mf = cl.mem_flags \n",
    "        \n",
    "#Upload data to the device\n",
    "u0_g = cl.Buffer(cl_ctx, mf.READ_WRITE | mf.COPY_HOST_PTR, hostbuf=u0)\n",
    "u1_g = cl.Buffer(cl_ctx, mf.READ_WRITE | mf.COPY_HOST_PTR, hostbuf=u1)       \n",
    "\n",
    "#Allocate output buffers\n",
    "u2_g = cl.Buffer(cl_ctx, mf.READ_WRITE, u0.nbytes)\n",
    "\n",
    "\n",
    "\n",
    "#Plot initial conditions\n",
    "nt = 500\n",
    "\n",
    "for i in range(0, nt):\n",
    "        #Execute program on device\n",
    "        linear_wave_2D(cl_queue, (nx,ny), None, \n",
    "                       u2_g, u1_g, u0_g, \n",
    "                       numpy.float32(c), numpy.float32(dt), numpy.float32(dx), numpy.float32(dy))\n",
    "        \n",
    "        #Swap variables\n",
    "        u0_g, u1_g, u2_g = u1_g, u2_g, u0_g\n"
   ]
  }
 ],
 "metadata": {
  "kernelspec": {
   "display_name": "Python 2",
   "language": "python",
   "name": "python2"
  },
  "language_info": {
   "codemirror_mode": {
    "name": "ipython",
    "version": 2
   },
   "file_extension": ".py",
   "mimetype": "text/x-python",
   "name": "python",
   "nbconvert_exporter": "python",
   "pygments_lexer": "ipython2",
   "version": "2.7.6"
  }
 },
 "nbformat": 4,
 "nbformat_minor": 0
}
